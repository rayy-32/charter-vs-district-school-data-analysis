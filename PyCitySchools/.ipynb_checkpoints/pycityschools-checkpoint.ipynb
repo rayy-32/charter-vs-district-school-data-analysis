{
 "cells": [
  {
   "cell_type": "code",
   "execution_count": 51,
   "id": "4a9d65bd-fe46-4a60-8fec-cce69405d74b",
   "metadata": {},
   "outputs": [],
   "source": [
    "#Importing dependencies\n",
    "import os\n",
    "import pandas as pd"
   ]
  },
  {
   "cell_type": "code",
   "execution_count": 52,
   "id": "f23cd526-2869-4889-8e2a-88580b56d61c",
   "metadata": {},
   "outputs": [],
   "source": [
    "#Reading csv files\n",
    "csvschools = pd.read_csv('Resources/schools_complete.csv', encoding='utf-8') \n",
    "csvstudents = pd.read_csv('Resources/students_complete.csv', encoding='utf-8')"
   ]
  },
  {
   "cell_type": "code",
   "execution_count": 53,
   "id": "3b6071f2-50fc-424a-8ca2-daded528006f",
   "metadata": {},
   "outputs": [],
   "source": [
    "#Merging the two files\n",
    "school_data = pd.merge(csvstudents, csvschools, how='left', on=['school_name', 'school_name'])\n",
    "#school_data.head()"
   ]
  },
  {
   "cell_type": "code",
   "execution_count": 54,
   "id": "e1b970ea-0925-4f07-9a11-54e0e9cf5dad",
   "metadata": {},
   "outputs": [],
   "source": [
    "#District Summary"
   ]
  },
  {
   "cell_type": "code",
   "execution_count": 55,
   "id": "18e4cfe1-43ea-428b-b86e-a0cc4213549b",
   "metadata": {},
   "outputs": [],
   "source": [
    "#Calculating total number of students\n",
    "total_students = school_data['student_name'].count()"
   ]
  },
  {
   "cell_type": "code",
   "execution_count": 56,
   "id": "e4c84851-54a0-46af-b646-ab214d9a58e3",
   "metadata": {},
   "outputs": [],
   "source": [
    "#Calculating total number of schools\n",
    "total_schools = len(school_data['school_name'].unique())"
   ]
  },
  {
   "cell_type": "code",
   "execution_count": 57,
   "id": "8e388501-a4f6-47cf-af54-ca00870078d4",
   "metadata": {},
   "outputs": [],
   "source": [
    "#Calculating total budget across all schools\n",
    "total_budget = sum(school_data['budget'].unique())"
   ]
  },
  {
   "cell_type": "code",
   "execution_count": 58,
   "id": "a6b5f499-3769-48e4-adb6-96ae7fb69478",
   "metadata": {},
   "outputs": [],
   "source": [
    "#Calculating the average reading and writing score\n",
    "avgRead = round(school_data['reading_score'].mean(), 2)\n",
    "avgMath = round(school_data['math_score'].mean(), 2)"
   ]
  },
  {
   "cell_type": "code",
   "execution_count": 59,
   "id": "e2ed8818-5508-46ad-ab73-db9b738e14a1",
   "metadata": {},
   "outputs": [],
   "source": [
    "#Calculating percentage of students who passed reading\n",
    "sortedRead = school_data[school_data['reading_score'] >= 70]\n",
    "passRead = round((sortedRead['student_name'].count() / total_students) * 100, 2)\n",
    "\n",
    "#Calculating percentage of students who passed math\n",
    "sortedMath = school_data[school_data['math_score'] >= 70]\n",
    "passMath = round((sortedMath['student_name'].count() / total_students) * 100, 2)"
   ]
  },
  {
   "cell_type": "code",
   "execution_count": 60,
   "id": "aae1976f-94aa-4d34-91e9-2462c1c7d45c",
   "metadata": {},
   "outputs": [],
   "source": [
    "#Calculating percentage of students who passed both reading and math\n",
    "sortedRM = school_data.loc[(school_data['reading_score'] >= 70) & (school_data['math_score'] >= 70), ['school_name', 'reading_score', 'math_score']]\n",
    "passReadMath = round((sortedRM['math_score'].count() / total_students) * 100, 2)"
   ]
  },
  {
   "cell_type": "code",
   "execution_count": 61,
   "id": "62ade3f0-b507-4f56-bdb3-1b4005629a3c",
   "metadata": {},
   "outputs": [],
   "source": [
    "district_summary = pd.DataFrame({'Total Students': [total_students],\n",
    "                                'Total Schools': [total_schools],\n",
    "                                'Total Budget': [total_budget],\n",
    "                                'Average Reading Score(%)': [avgRead],\n",
    "                                'Average Math Score(%)': [avgMath],\n",
    "                                'Students Passing Reading(%)': [passRead],\n",
    "                                'Students Passing Math(%)': [passMath],\n",
    "                                'Students Passing Overall(%)': [passReadMath]\n",
    "                                })\n",
    "#district_summary"
   ]
  },
  {
   "cell_type": "code",
   "execution_count": 62,
   "id": "973bfe39-3749-44ac-a890-0a4fdaa37ee0",
   "metadata": {},
   "outputs": [],
   "source": [
    "#School Summary"
   ]
  },
  {
   "cell_type": "code",
   "execution_count": 63,
   "id": "36d42550-c453-4067-9569-47e1f601f4d3",
   "metadata": {},
   "outputs": [],
   "source": [
    "#List of all school names\n",
    "sch_names = school_data['school_name'].unique()"
   ]
  },
  {
   "cell_type": "code",
   "execution_count": 64,
   "id": "e1182d2a-3cee-494b-b6f6-89725b90bbbb",
   "metadata": {},
   "outputs": [],
   "source": [
    "#Matching each school with its type\n",
    "sch_types = school_data[['school_name','type']].drop_duplicates()\n",
    "sch_types = sch_types['type']\n",
    "#type(sch_types)"
   ]
  },
  {
   "cell_type": "code",
   "execution_count": 65,
   "id": "5485257c-82e4-4d92-967c-4a704c51c6c6",
   "metadata": {},
   "outputs": [],
   "source": [
    "#Finding total students of each school\n",
    "sch_students = school_data['school_name'].value_counts(sort=False)\n",
    "sch_students = sch_students.values\n",
    "#type(sch_students)"
   ]
  },
  {
   "cell_type": "code",
   "execution_count": 66,
   "id": "a9dbedc4-90df-445f-83b5-f0c54aebe26c",
   "metadata": {
    "tags": []
   },
   "outputs": [],
   "source": [
    "#Finding total budgets of each school\n",
    "sch_budgets = school_data['budget'].unique()\n",
    "#type(sch_budgets)\n",
    "\n",
    "#Finding budget per student\n",
    "sch_bud_stu = sch_budgets / sch_students\n",
    "#type(sch_bud_stu)"
   ]
  },
  {
   "cell_type": "code",
   "execution_count": 67,
   "id": "648d510a-a27f-4219-87da-0c05368ce24a",
   "metadata": {},
   "outputs": [],
   "source": [
    "#Finding average reading and math score of each school\n",
    "sch_avgM = school_data[['school_name','math_score']].groupby(['school_name'], sort=False).mean()\n",
    "sch_avgM = sch_avgM['math_score'].to_numpy()\n",
    "\n",
    "sch_avgR = school_data[['school_name','reading_score']].groupby(['school_name'], sort=False).mean()\n",
    "sch_avgR = sch_avgR['reading_score'].to_numpy()"
   ]
  },
  {
   "cell_type": "code",
   "execution_count": 68,
   "id": "86942777-0903-4fa8-a70e-2177a82f4d9e",
   "metadata": {},
   "outputs": [],
   "source": [
    "#Finding each school's percentage of students who passed reading and math\n",
    "sch_passM = sortedMath[['school_name','math_score']].groupby(['school_name'], sort=False).count()\n",
    "sch_passM = (sch_passM['math_score'].to_numpy() / sch_students) * 100\n",
    "#type(sch_passM)\n",
    "\n",
    "#Finding each school's percentage of students who passed math\n",
    "sch_passR = sortedRead[['school_name','reading_score']].groupby(['school_name'], sort=False).count()\n",
    "sch_passR = (sch_passR['reading_score'].to_numpy() / sch_students) * 100\n",
    "#type(sch_passR)"
   ]
  },
  {
   "cell_type": "code",
   "execution_count": 69,
   "id": "aaf5b3fd-f804-4fa1-86bd-534909195ef2",
   "metadata": {},
   "outputs": [],
   "source": [
    "#Finding each school's percentage of students who passed reading and math\n",
    "sch_passRM = sortedRM[['school_name','math_score']].groupby(['school_name'], sort=False).count()\n",
    "sch_passRM = (sch_passRM['math_score'].to_numpy() / sch_students) * 100"
   ]
  },
  {
   "cell_type": "code",
   "execution_count": 70,
   "id": "ff9992f5-348d-4a14-bc17-5f145b38f74a",
   "metadata": {},
   "outputs": [],
   "source": [
    "school_summary = pd.DataFrame({'School Name': sch_names,\n",
    "                              'School Type': sch_types,\n",
    "                              'Total Students': sch_students,\n",
    "                              'Total School Budget': sch_budgets,\n",
    "                              'Budget Per Student': sch_bud_stu,\n",
    "                              'Average Reading Score (%)': sch_avgR,\n",
    "                              'Average Math Score (%)': sch_avgM,\n",
    "                              'Students Passing Reading(%)': sch_passR,\n",
    "                              'Students Passing Math(%)': sch_passM,\n",
    "                              'Students Passing Overall(%)': sch_passRM\n",
    "                              }).set_index(num for num in range(15))\n",
    "#school_summary.head(15)"
   ]
  },
  {
   "cell_type": "code",
   "execution_count": 71,
   "id": "0baa6d88-9380-4792-893d-5f61f31b8a3b",
   "metadata": {},
   "outputs": [],
   "source": [
    "# Highest-Performing Schools (by % Overall Passing)\n",
    "highest_sch = school_summary.sort_values('Students Passing Overall(%)', ascending=False)\n",
    "#highest_sch.head(5)"
   ]
  },
  {
   "cell_type": "code",
   "execution_count": 72,
   "id": "f8970072-503f-4f04-ae43-c537b75d4fd5",
   "metadata": {},
   "outputs": [],
   "source": [
    "# Lowest-Performing Schools (by % Overall Passing)\n",
    "lowest_sch = school_summary.sort_values('Students Passing Overall(%)', ascending=False)\n",
    "#lowest_sch.tail(5)"
   ]
  },
  {
   "cell_type": "code",
   "execution_count": 73,
   "id": "84515c29-736e-49db-aeb6-3b8d646bdb09",
   "metadata": {},
   "outputs": [],
   "source": [
    "# Math Scores by Grade\n",
    "sch_grade = school_data[['school_name', 'grade', 'reading_score', 'math_score']]\n",
    "\n",
    "grd09 = sch_grade.loc[sch_grade['grade'] == '9th']\n",
    "grd10 = sch_grade.loc[sch_grade['grade'] == '10th']\n",
    "grd11 = sch_grade.loc[sch_grade['grade'] == '11th']\n",
    "grd12 = sch_grade.loc[sch_grade['grade'] == '12th']"
   ]
  },
  {
   "cell_type": "code",
   "execution_count": 74,
   "id": "db55b5f6-4c24-423f-a920-3b829059bef0",
   "metadata": {},
   "outputs": [],
   "source": [
    "#Finding average math scores for each grade in each school\n",
    "grd09_M = grd09[['school_name','math_score']].groupby(['school_name'], sort=False).mean()\n",
    "grd10_M = grd10[['school_name','math_score']].groupby(['school_name'], sort=False).mean()\n",
    "grd11_M = grd11[['school_name','math_score']].groupby(['school_name'], sort=False).mean()\n",
    "grd12_M = grd12[['school_name','math_score']].groupby(['school_name'], sort=False).mean()"
   ]
  },
  {
   "cell_type": "code",
   "execution_count": 75,
   "id": "159ae310-e480-44bf-abc5-cdeeb33aad1c",
   "metadata": {},
   "outputs": [],
   "source": [
    "avgM_grades = pd.DataFrame({'9th Grade': grd09_M['math_score'],\n",
    "                      '10th Grade': grd10_M['math_score'],\n",
    "                      '11th Grade': grd11_M['math_score'],\n",
    "                      '12th Grade': grd12_M['math_score']})\n",
    "\n",
    "#avgM_grades"
   ]
  },
  {
   "cell_type": "code",
   "execution_count": 76,
   "id": "a262caf5-e518-4754-b58a-c1d49674d4c1",
   "metadata": {},
   "outputs": [],
   "source": [
    "#Finding average reading scores for each grade in each school\n",
    "grd09_R = grd09[['school_name','reading_score']].groupby(['school_name'], sort=False).mean()\n",
    "grd10_R = grd10[['school_name','reading_score']].groupby(['school_name'], sort=False).mean()\n",
    "grd11_R = grd11[['school_name','reading_score']].groupby(['school_name'], sort=False).mean()\n",
    "grd12_R = grd12[['school_name','reading_score']].groupby(['school_name'], sort=False).mean()"
   ]
  },
  {
   "cell_type": "code",
   "execution_count": 77,
   "id": "8c1a7102-4dd1-4022-b2ae-b002c7f5ee06",
   "metadata": {},
   "outputs": [],
   "source": [
    "avgR_grades = pd.DataFrame({'9th Grade': grd09_R['reading_score'],\n",
    "                      '10th Grade': grd10_R['reading_score'],\n",
    "                      '11th Grade': grd11_R['reading_score'],\n",
    "                      '12th Grade': grd12_R['reading_score']})\n",
    "\n",
    "#avgR_grades"
   ]
  },
  {
   "cell_type": "code",
   "execution_count": 78,
   "id": "c3cc5eee-2def-4075-9462-49efa3100b1f",
   "metadata": {},
   "outputs": [],
   "source": [
    "#Scores by School Spending per Student\n",
    "bins_budget = [500, 580, 610, 640, 670]\n",
    "labels_budget = ['under 580','580 to 610','610 to 640','640 to 670']\n",
    "\n",
    "school_summary['School Spending per Student'] = pd.cut(sch_bud_stu, bins_budget, labels=labels_budget, include_lowest=True)"
   ]
  },
  {
   "cell_type": "code",
   "execution_count": 79,
   "id": "d4ca1564-9bfa-414c-8c5e-12ea28fb0fb1",
   "metadata": {},
   "outputs": [
    {
     "data": {
      "text/html": [
       "<div>\n",
       "<style scoped>\n",
       "    .dataframe tbody tr th:only-of-type {\n",
       "        vertical-align: middle;\n",
       "    }\n",
       "\n",
       "    .dataframe tbody tr th {\n",
       "        vertical-align: top;\n",
       "    }\n",
       "\n",
       "    .dataframe thead th {\n",
       "        text-align: right;\n",
       "    }\n",
       "</style>\n",
       "<table border=\"1\" class=\"dataframe\">\n",
       "  <thead>\n",
       "    <tr style=\"text-align: right;\">\n",
       "      <th></th>\n",
       "      <th>Average Reading Score (%)</th>\n",
       "      <th>Average Math Score (%)</th>\n",
       "      <th>Students Passing Reading(%)</th>\n",
       "      <th>Students Passing Math(%)</th>\n",
       "      <th>Students Passing Overall(%)</th>\n",
       "    </tr>\n",
       "    <tr>\n",
       "      <th>School Spending per Student</th>\n",
       "      <th></th>\n",
       "      <th></th>\n",
       "      <th></th>\n",
       "      <th></th>\n",
       "      <th></th>\n",
       "    </tr>\n",
       "  </thead>\n",
       "  <tbody>\n",
       "    <tr>\n",
       "      <th>under 580</th>\n",
       "      <td>83.989488</td>\n",
       "      <td>83.274201</td>\n",
       "      <td>96.539641</td>\n",
       "      <td>93.867718</td>\n",
       "      <td>90.582567</td>\n",
       "    </tr>\n",
       "    <tr>\n",
       "      <th>580 to 610</th>\n",
       "      <td>83.903238</td>\n",
       "      <td>83.549353</td>\n",
       "      <td>96.340888</td>\n",
       "      <td>93.686876</td>\n",
       "      <td>90.265583</td>\n",
       "    </tr>\n",
       "    <tr>\n",
       "      <th>610 to 640</th>\n",
       "      <td>82.120471</td>\n",
       "      <td>79.474551</td>\n",
       "      <td>87.468080</td>\n",
       "      <td>77.139934</td>\n",
       "      <td>68.476495</td>\n",
       "    </tr>\n",
       "    <tr>\n",
       "      <th>640 to 670</th>\n",
       "      <td>80.957446</td>\n",
       "      <td>77.023555</td>\n",
       "      <td>80.675217</td>\n",
       "      <td>66.701010</td>\n",
       "      <td>53.717613</td>\n",
       "    </tr>\n",
       "  </tbody>\n",
       "</table>\n",
       "</div>"
      ],
      "text/plain": [
       "                             Average Reading Score (%)  \\\n",
       "School Spending per Student                              \n",
       "under 580                                    83.989488   \n",
       "580 to 610                                   83.903238   \n",
       "610 to 640                                   82.120471   \n",
       "640 to 670                                   80.957446   \n",
       "\n",
       "                             Average Math Score (%)  \\\n",
       "School Spending per Student                           \n",
       "under 580                                 83.274201   \n",
       "580 to 610                                83.549353   \n",
       "610 to 640                                79.474551   \n",
       "640 to 670                                77.023555   \n",
       "\n",
       "                             Students Passing Reading(%)  \\\n",
       "School Spending per Student                                \n",
       "under 580                                      96.539641   \n",
       "580 to 610                                     96.340888   \n",
       "610 to 640                                     87.468080   \n",
       "640 to 670                                     80.675217   \n",
       "\n",
       "                             Students Passing Math(%)  \\\n",
       "School Spending per Student                             \n",
       "under 580                                   93.867718   \n",
       "580 to 610                                  93.686876   \n",
       "610 to 640                                  77.139934   \n",
       "640 to 670                                  66.701010   \n",
       "\n",
       "                             Students Passing Overall(%)  \n",
       "School Spending per Student                               \n",
       "under 580                                      90.582567  \n",
       "580 to 610                                     90.265583  \n",
       "610 to 640                                     68.476495  \n",
       "640 to 670                                     53.717613  "
      ]
     },
     "execution_count": 79,
     "metadata": {},
     "output_type": "execute_result"
    }
   ],
   "source": [
    "scores_spend = school_summary.groupby('School Spending per Student')[['School Spending per Student', \n",
    "               'Average Reading Score (%)', \n",
    "               'Average Math Score (%)', \n",
    "               'Students Passing Reading(%)', \n",
    "               'Students Passing Math(%)', \n",
    "               'Students Passing Overall(%)']].mean()\n",
    "\n",
    "scores_spend"
   ]
  },
  {
   "cell_type": "code",
   "execution_count": 80,
   "id": "d1e827bd-8914-4700-8519-710e8405c704",
   "metadata": {},
   "outputs": [],
   "source": [
    "#Scores by School Size\n",
    "bins_size = [0, 1000, 3000, 5000]\n",
    "labels_size = ['small','medium','large']\n",
    "\n",
    "school_summary['School Size'] = pd.cut(sch_students, bins_size, labels=labels_size, include_lowest=True)"
   ]
  },
  {
   "cell_type": "code",
   "execution_count": 81,
   "id": "db61dde0-a0df-4aec-8c11-a536f20eeced",
   "metadata": {},
   "outputs": [],
   "source": [
    "scores_size = school_summary.groupby('School Size')[['School Size', \n",
    "               'Average Reading Score (%)', \n",
    "               'Average Math Score (%)', \n",
    "               'Students Passing Reading(%)', \n",
    "               'Students Passing Math(%)', \n",
    "               'Students Passing Overall(%)']].mean()\n",
    "\n",
    "#scores_size"
   ]
  },
  {
   "cell_type": "code",
   "execution_count": 83,
   "id": "72e0cd1c-f466-454c-9461-1fcac42a5a78",
   "metadata": {},
   "outputs": [],
   "source": [
    "#Scores by School Type\n",
    "#sch_types\n",
    "\n",
    "scores_type = school_summary.groupby('School Type')[['School Type', \n",
    "               'Average Reading Score (%)', \n",
    "               'Average Math Score (%)', \n",
    "               'Students Passing Reading(%)', \n",
    "               'Students Passing Math(%)', \n",
    "               'Students Passing Overall(%)']].mean()\n",
    "\n",
    "#scores_type"
   ]
  }
 ],
 "metadata": {
  "kernelspec": {
   "display_name": "Python 3 (ipykernel)",
   "language": "python",
   "name": "python3"
  },
  "language_info": {
   "codemirror_mode": {
    "name": "ipython",
    "version": 3
   },
   "file_extension": ".py",
   "mimetype": "text/x-python",
   "name": "python",
   "nbconvert_exporter": "python",
   "pygments_lexer": "ipython3",
   "version": "3.9.7"
  }
 },
 "nbformat": 4,
 "nbformat_minor": 5
}
